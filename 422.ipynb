{
 "cells": [
  {
   "cell_type": "code",
   "execution_count": 2,
   "metadata": {},
   "outputs": [],
   "source": [
    "import sqlite3\n",
    "import json\n",
    "from datetime import datetime"
   ]
  },
  {
   "cell_type": "code",
   "execution_count": 13,
   "metadata": {},
   "outputs": [],
   "source": [
    "timeframe = '2015-05'\n",
    "sql_transaction = []\n",
    "\n",
    "connection = sqlite3.connect('{}.db'.format(timeframe))\n",
    "c = connection.cursor()\n",
    "start_row = 0\n",
    "cleanup = 1000000"
   ]
  },
  {
   "cell_type": "code",
   "execution_count": 3,
   "metadata": {},
   "outputs": [
    {
     "data": {
      "text/plain": [
       "<sqlite3.Connection at 0x1d5ac270d50>"
      ]
     },
     "execution_count": 3,
     "metadata": {},
     "output_type": "execute_result"
    }
   ],
   "source": [
    "connection"
   ]
  },
  {
   "cell_type": "code",
   "execution_count": 4,
   "metadata": {},
   "outputs": [],
   "source": [
    "def create_table():\n",
    "    c.execute(\"CREATE TABLE IF NOT EXISTS parent_reply(parent_id TEXT PRIMARY KEY, comment_id TEXT UNIQUE, parent TEXT, comment TEXT, subreddit TEXT, unix INT, score INT)\")"
   ]
  },
  {
   "cell_type": "code",
   "execution_count": 5,
   "metadata": {},
   "outputs": [],
   "source": [
    "def format_data(data):\n",
    "    data = data.replace('\\n',' newlinechar ').replace('\\r',' newlinechar ').replace('\"',\"'\")\n",
    "    return data"
   ]
  },
  {
   "cell_type": "code",
   "execution_count": 6,
   "metadata": {},
   "outputs": [],
   "source": [
    "def find_parent(pid):\n",
    "    try:\n",
    "        sql = \"SELECT comment FROM parent_reply WHERE comment_id = '{}' LIMIT 1\".format(pid)\n",
    "        c.execute(sql)\n",
    "        result = c.fetchone()\n",
    "        if result != None:\n",
    "            return result[0]\n",
    "        else: return False\n",
    "    except Exception as e:\n",
    "        #print(str(e))\n",
    "        return False"
   ]
  },
  {
   "cell_type": "code",
   "execution_count": 7,
   "metadata": {},
   "outputs": [],
   "source": [
    "def find_existing_score(pid):\n",
    "    try:\n",
    "        sql = \"SELECT score FROM parent_reply WHERE parent_id = '{}' LIMIT 1\".format(pid)\n",
    "        c.execute(sql)\n",
    "        result = c.fetchone()\n",
    "        if result != None:\n",
    "            return result[0]\n",
    "        else: return False\n",
    "    except Exception as e:\n",
    "        #print(str(e))\n",
    "        return False"
   ]
  },
  {
   "cell_type": "code",
   "execution_count": 8,
   "metadata": {},
   "outputs": [],
   "source": [
    "def acceptable(data):\n",
    "    if len(data.split(' ')) > 50 or len(data) < 1:\n",
    "        return False\n",
    "    elif len(data) > 1000:\n",
    "        return False\n",
    "    elif data == '[deleted]':\n",
    "        return False\n",
    "    elif data == '[removed]':\n",
    "        return False\n",
    "    else:\n",
    "        return True"
   ]
  },
  {
   "cell_type": "code",
   "execution_count": 19,
   "metadata": {},
   "outputs": [],
   "source": [
    "def transaction_bldr(sql):\n",
    "    global sql_transaction\n",
    "    sql_transaction.append(sql)\n",
    "    if len(sql_transaction) > 1000:\n",
    "        c.execute('BEGIN TRANSACTION')\n",
    "        for s in sql_transaction:\n",
    "            try:\n",
    "                c.execute(s)\n",
    "            except:\n",
    "                pass\n",
    "        connection.commit()\n",
    "        sql_transaction = []"
   ]
  },
  {
   "cell_type": "code",
   "execution_count": 15,
   "metadata": {},
   "outputs": [],
   "source": [
    "def sql_insert_replace_comment(commentid,parentid,parent,comment,subreddit,time,score):\n",
    "    try:\n",
    "        sql = \"\"\"UPDATE parent_reply SET parent_id = ?, comment_id = ?, parent = ?, comment = ?, subreddit = ?, unix = ?, score = ? WHERE parent_id =?;\"\"\".format(parentid, commentid, parent, comment, subreddit, int(time), score, parentid)\n",
    "        transaction_bldr(sql)\n",
    "    except Exception as e:\n",
    "        print('sql_insert_replace_comment s0 insertion',str(e))"
   ]
  },
  {
   "cell_type": "code",
   "execution_count": 17,
   "metadata": {},
   "outputs": [],
   "source": [
    "def sql_insert_has_parent(commentid,parentid,parent,comment,subreddit,time,score):\n",
    "    try:\n",
    "        sql = \"\"\"INSERT INTO parent_reply (parent_id, comment_id, parent, comment, subreddit, unix, score) VALUES (\"{}\",\"{}\",\"{}\",\"{}\",\"{}\",{},{});\"\"\".format(parentid, commentid, parent, comment, subreddit, int(time), score)\n",
    "        transaction_bldr(sql)\n",
    "    except Exception as e:\n",
    "        print('sql_insert_has_parent s0 insertion',str(e))\n",
    "\n",
    "\n",
    "def sql_insert_no_parent(commentid,parentid,comment,subreddit,time,score):\n",
    "    try:\n",
    "        sql = \"\"\"INSERT INTO parent_reply (parent_id, comment_id, comment, subreddit, unix, score) VALUES (\"{}\",\"{}\",\"{}\",\"{}\",{},{});\"\"\".format(parentid, commentid, comment, subreddit, int(time), score)\n",
    "        transaction_bldr(sql)\n",
    "    except Exception as e:\n",
    "        print('sql_insert_no_parent s0 insertion',str(e))"
   ]
  },
  {
   "cell_type": "code",
   "execution_count": 21,
   "metadata": {},
   "outputs": [
    {
     "name": "stdout",
     "output_type": "stream",
     "text": [
      "Total Rows Read: 100000, Paired Rows: 1, Time: 2019-07-09 14:26:25.231550\n",
      "Total Rows Read: 200000, Paired Rows: 2, Time: 2019-07-09 14:26:35.771618\n",
      "Total Rows Read: 300000, Paired Rows: 2, Time: 2019-07-09 14:26:46.370816\n",
      "Total Rows Read: 400000, Paired Rows: 5676, Time: 2019-07-09 14:28:21.497603\n",
      "Total Rows Read: 500000, Paired Rows: 12208, Time: 2019-07-09 14:30:47.566496\n",
      "Total Rows Read: 600000, Paired Rows: 18051, Time: 2019-07-09 14:33:30.365757\n",
      "Total Rows Read: 700000, Paired Rows: 23970, Time: 2019-07-09 14:35:53.489216\n",
      "Total Rows Read: 800000, Paired Rows: 30541, Time: 2019-07-09 14:38:03.609751\n",
      "Total Rows Read: 900000, Paired Rows: 37284, Time: 2019-07-09 14:40:29.428012\n",
      "Total Rows Read: 1000000, Paired Rows: 44025, Time: 2019-07-09 14:42:34.632768\n",
      "Cleanin up!\n",
      "Total Rows Read: 1100000, Paired Rows: 49421, Time: 2019-07-09 14:44:09.418694\n",
      "Total Rows Read: 1200000, Paired Rows: 55721, Time: 2019-07-09 14:45:58.346045\n",
      "Total Rows Read: 1300000, Paired Rows: 62340, Time: 2019-07-09 14:48:03.310025\n",
      "Total Rows Read: 1400000, Paired Rows: 68911, Time: 2019-07-09 14:50:12.734842\n",
      "Total Rows Read: 1500000, Paired Rows: 75259, Time: 2019-07-09 14:52:06.854198\n",
      "Total Rows Read: 1600000, Paired Rows: 81975, Time: 2019-07-09 14:54:00.542696\n",
      "Total Rows Read: 1700000, Paired Rows: 88456, Time: 2019-07-09 14:55:51.163593\n",
      "Total Rows Read: 1800000, Paired Rows: 94843, Time: 2019-07-09 14:57:39.766555\n",
      "Total Rows Read: 1900000, Paired Rows: 100814, Time: 2019-07-09 14:59:29.502771\n",
      "Total Rows Read: 2000000, Paired Rows: 107851, Time: 2019-07-09 15:01:23.049904\n",
      "Cleanin up!\n",
      "Total Rows Read: 2100000, Paired Rows: 112701, Time: 2019-07-09 15:02:50.575827\n",
      "Total Rows Read: 2200000, Paired Rows: 118207, Time: 2019-07-09 15:03:55.390647\n",
      "Total Rows Read: 2300000, Paired Rows: 124337, Time: 2019-07-09 15:05:01.410630\n",
      "Total Rows Read: 2400000, Paired Rows: 130909, Time: 2019-07-09 15:06:10.643296\n",
      "Total Rows Read: 2500000, Paired Rows: 137856, Time: 2019-07-09 15:07:20.277179\n",
      "Total Rows Read: 2600000, Paired Rows: 145129, Time: 2019-07-09 15:08:38.575039\n",
      "Total Rows Read: 2700000, Paired Rows: 152344, Time: 2019-07-09 15:09:58.041933\n",
      "Total Rows Read: 2800000, Paired Rows: 159443, Time: 2019-07-09 15:11:22.514178\n",
      "Total Rows Read: 2900000, Paired Rows: 166357, Time: 2019-07-09 15:12:48.027702\n",
      "Total Rows Read: 3000000, Paired Rows: 173463, Time: 2019-07-09 15:14:19.099939\n",
      "Cleanin up!\n",
      "Total Rows Read: 3100000, Paired Rows: 179077, Time: 2019-07-09 15:15:41.947794\n",
      "Total Rows Read: 3200000, Paired Rows: 185616, Time: 2019-07-09 15:17:04.345484\n",
      "Total Rows Read: 3300000, Paired Rows: 192221, Time: 2019-07-09 15:18:28.215831\n",
      "Total Rows Read: 3400000, Paired Rows: 198857, Time: 2019-07-09 15:20:02.197354\n",
      "Total Rows Read: 3500000, Paired Rows: 205807, Time: 2019-07-09 15:21:46.839479\n",
      "Total Rows Read: 3600000, Paired Rows: 212558, Time: 2019-07-09 15:23:45.302764\n",
      "Total Rows Read: 3700000, Paired Rows: 219070, Time: 2019-07-09 15:25:47.085585\n",
      "Total Rows Read: 3800000, Paired Rows: 225198, Time: 2019-07-09 15:27:58.063193\n",
      "Total Rows Read: 3900000, Paired Rows: 231377, Time: 2019-07-09 15:30:12.346560\n",
      "Total Rows Read: 4000000, Paired Rows: 237957, Time: 2019-07-09 15:32:19.972805\n",
      "Cleanin up!\n",
      "Total Rows Read: 4100000, Paired Rows: 243542, Time: 2019-07-09 15:33:43.553174\n",
      "Total Rows Read: 4200000, Paired Rows: 250227, Time: 2019-07-09 15:34:39.727224\n",
      "Total Rows Read: 4300000, Paired Rows: 257097, Time: 2019-07-09 15:35:38.350456\n",
      "Total Rows Read: 4400000, Paired Rows: 264036, Time: 2019-07-09 15:36:38.751596\n",
      "Total Rows Read: 4500000, Paired Rows: 270734, Time: 2019-07-09 15:37:40.505628\n",
      "Total Rows Read: 4600000, Paired Rows: 277421, Time: 2019-07-09 15:38:48.166048\n",
      "Total Rows Read: 4700000, Paired Rows: 283853, Time: 2019-07-09 15:39:54.722221\n",
      "Total Rows Read: 4800000, Paired Rows: 290963, Time: 2019-07-09 15:41:06.157810\n",
      "Total Rows Read: 4900000, Paired Rows: 297882, Time: 2019-07-09 15:42:23.267691\n",
      "Total Rows Read: 5000000, Paired Rows: 304429, Time: 2019-07-09 15:43:36.828842\n",
      "Cleanin up!\n",
      "Total Rows Read: 5100000, Paired Rows: 310080, Time: 2019-07-09 15:45:00.291818\n",
      "Total Rows Read: 5200000, Paired Rows: 316581, Time: 2019-07-09 15:46:14.589299\n",
      "Total Rows Read: 5300000, Paired Rows: 322995, Time: 2019-07-09 15:47:43.304913\n",
      "Total Rows Read: 5400000, Paired Rows: 329029, Time: 2019-07-09 15:49:38.190943\n",
      "Total Rows Read: 5500000, Paired Rows: 335226, Time: 2019-07-09 15:51:29.744662\n",
      "Total Rows Read: 5600000, Paired Rows: 341712, Time: 2019-07-09 15:53:25.333649\n",
      "Total Rows Read: 5700000, Paired Rows: 348410, Time: 2019-07-09 15:55:18.751779\n",
      "Total Rows Read: 5800000, Paired Rows: 355187, Time: 2019-07-09 15:57:01.297626\n",
      "Total Rows Read: 5900000, Paired Rows: 362015, Time: 2019-07-09 15:58:53.094398\n",
      "Total Rows Read: 6000000, Paired Rows: 368864, Time: 2019-07-09 16:00:33.725779\n",
      "Cleanin up!\n",
      "Total Rows Read: 6100000, Paired Rows: 374362, Time: 2019-07-09 16:02:40.736962\n",
      "Total Rows Read: 6200000, Paired Rows: 380395, Time: 2019-07-09 16:04:23.455251\n",
      "Total Rows Read: 6300000, Paired Rows: 386642, Time: 2019-07-09 16:06:21.187312\n",
      "Total Rows Read: 6400000, Paired Rows: 392617, Time: 2019-07-09 16:08:36.864277\n",
      "Total Rows Read: 6500000, Paired Rows: 399755, Time: 2019-07-09 16:10:51.770464\n",
      "Total Rows Read: 6600000, Paired Rows: 406956, Time: 2019-07-09 16:13:20.288294\n",
      "Total Rows Read: 6700000, Paired Rows: 414173, Time: 2019-07-09 16:15:41.931570\n",
      "Total Rows Read: 6800000, Paired Rows: 421259, Time: 2019-07-09 16:18:10.822915\n",
      "Total Rows Read: 6900000, Paired Rows: 428260, Time: 2019-07-09 16:20:39.055849\n",
      "Total Rows Read: 7000000, Paired Rows: 434609, Time: 2019-07-09 16:23:06.291378\n",
      "Cleanin up!\n",
      "Total Rows Read: 7100000, Paired Rows: 439689, Time: 2019-07-09 16:25:24.663548\n",
      "Total Rows Read: 7200000, Paired Rows: 445767, Time: 2019-07-09 16:27:25.812727\n",
      "Total Rows Read: 7300000, Paired Rows: 452306, Time: 2019-07-09 16:29:45.568489\n",
      "Total Rows Read: 7400000, Paired Rows: 459250, Time: 2019-07-09 16:32:04.686589\n",
      "Total Rows Read: 7500000, Paired Rows: 466400, Time: 2019-07-09 16:34:30.310943\n",
      "Total Rows Read: 7600000, Paired Rows: 473798, Time: 2019-07-09 16:36:35.263349\n",
      "Total Rows Read: 7700000, Paired Rows: 480639, Time: 2019-07-09 16:38:52.000545\n",
      "Total Rows Read: 7800000, Paired Rows: 487254, Time: 2019-07-09 16:41:12.494057\n",
      "Total Rows Read: 7900000, Paired Rows: 494566, Time: 2019-07-09 16:43:25.459760\n",
      "Total Rows Read: 8000000, Paired Rows: 501706, Time: 2019-07-09 16:45:39.571801\n",
      "Cleanin up!\n",
      "Total Rows Read: 8100000, Paired Rows: 507177, Time: 2019-07-09 16:47:49.006402\n",
      "Total Rows Read: 8200000, Paired Rows: 513665, Time: 2019-07-09 16:49:53.761597\n",
      "Total Rows Read: 8300000, Paired Rows: 519921, Time: 2019-07-09 16:52:14.204495\n",
      "Total Rows Read: 8400000, Paired Rows: 526394, Time: 2019-07-09 16:55:03.044017\n",
      "Total Rows Read: 8500000, Paired Rows: 532959, Time: 2019-07-09 16:57:47.232776\n",
      "Total Rows Read: 8600000, Paired Rows: 539722, Time: 2019-07-09 17:00:57.407680\n",
      "Total Rows Read: 8700000, Paired Rows: 546121, Time: 2019-07-09 17:04:03.880440\n",
      "Total Rows Read: 8800000, Paired Rows: 552326, Time: 2019-07-09 17:06:40.305720\n",
      "Total Rows Read: 8900000, Paired Rows: 558644, Time: 2019-07-09 17:09:12.853290\n",
      "Total Rows Read: 9000000, Paired Rows: 565362, Time: 2019-07-09 17:11:39.068972\n",
      "Cleanin up!\n",
      "Total Rows Read: 9100000, Paired Rows: 570776, Time: 2019-07-09 17:13:32.319945\n"
     ]
    },
    {
     "ename": "KeyboardInterrupt",
     "evalue": "",
     "output_type": "error",
     "traceback": [
      "\u001b[1;31m---------------------------------------------------------------------------\u001b[0m",
      "\u001b[1;31mKeyboardInterrupt\u001b[0m                         Traceback (most recent call last)",
      "\u001b[1;32m<ipython-input-21-f3737c84bde5>\u001b[0m in \u001b[0;36m<module>\u001b[1;34m\u001b[0m\n\u001b[0;32m     34\u001b[0m                             \u001b[1;32mif\u001b[0m \u001b[0mparent_data\u001b[0m\u001b[1;33m:\u001b[0m\u001b[1;33m\u001b[0m\u001b[1;33m\u001b[0m\u001b[0m\n\u001b[0;32m     35\u001b[0m                                 \u001b[1;32mif\u001b[0m \u001b[0mscore\u001b[0m \u001b[1;33m>=\u001b[0m \u001b[1;36m2\u001b[0m\u001b[1;33m:\u001b[0m\u001b[1;33m\u001b[0m\u001b[1;33m\u001b[0m\u001b[0m\n\u001b[1;32m---> 36\u001b[1;33m                                     \u001b[0msql_insert_has_parent\u001b[0m\u001b[1;33m(\u001b[0m\u001b[0mcomment_id\u001b[0m\u001b[1;33m,\u001b[0m\u001b[0mparent_id\u001b[0m\u001b[1;33m,\u001b[0m\u001b[0mparent_data\u001b[0m\u001b[1;33m,\u001b[0m\u001b[0mbody\u001b[0m\u001b[1;33m,\u001b[0m\u001b[0msubreddit\u001b[0m\u001b[1;33m,\u001b[0m\u001b[0mcreated_utc\u001b[0m\u001b[1;33m,\u001b[0m\u001b[0mscore\u001b[0m\u001b[1;33m)\u001b[0m\u001b[1;33m\u001b[0m\u001b[1;33m\u001b[0m\u001b[0m\n\u001b[0m\u001b[0;32m     37\u001b[0m                                     \u001b[0mpaired_rows\u001b[0m \u001b[1;33m+=\u001b[0m \u001b[1;36m1\u001b[0m\u001b[1;33m\u001b[0m\u001b[1;33m\u001b[0m\u001b[0m\n\u001b[0;32m     38\u001b[0m                             \u001b[1;32melse\u001b[0m\u001b[1;33m:\u001b[0m\u001b[1;33m\u001b[0m\u001b[1;33m\u001b[0m\u001b[0m\n",
      "\u001b[1;32m<ipython-input-17-96d096cea969>\u001b[0m in \u001b[0;36msql_insert_has_parent\u001b[1;34m(commentid, parentid, parent, comment, subreddit, time, score)\u001b[0m\n\u001b[0;32m      2\u001b[0m     \u001b[1;32mtry\u001b[0m\u001b[1;33m:\u001b[0m\u001b[1;33m\u001b[0m\u001b[1;33m\u001b[0m\u001b[0m\n\u001b[0;32m      3\u001b[0m         \u001b[0msql\u001b[0m \u001b[1;33m=\u001b[0m \u001b[1;34m\"\"\"INSERT INTO parent_reply (parent_id, comment_id, parent, comment, subreddit, unix, score) VALUES (\"{}\",\"{}\",\"{}\",\"{}\",\"{}\",{},{});\"\"\"\u001b[0m\u001b[1;33m.\u001b[0m\u001b[0mformat\u001b[0m\u001b[1;33m(\u001b[0m\u001b[0mparentid\u001b[0m\u001b[1;33m,\u001b[0m \u001b[0mcommentid\u001b[0m\u001b[1;33m,\u001b[0m \u001b[0mparent\u001b[0m\u001b[1;33m,\u001b[0m \u001b[0mcomment\u001b[0m\u001b[1;33m,\u001b[0m \u001b[0msubreddit\u001b[0m\u001b[1;33m,\u001b[0m \u001b[0mint\u001b[0m\u001b[1;33m(\u001b[0m\u001b[0mtime\u001b[0m\u001b[1;33m)\u001b[0m\u001b[1;33m,\u001b[0m \u001b[0mscore\u001b[0m\u001b[1;33m)\u001b[0m\u001b[1;33m\u001b[0m\u001b[1;33m\u001b[0m\u001b[0m\n\u001b[1;32m----> 4\u001b[1;33m         \u001b[0mtransaction_bldr\u001b[0m\u001b[1;33m(\u001b[0m\u001b[0msql\u001b[0m\u001b[1;33m)\u001b[0m\u001b[1;33m\u001b[0m\u001b[1;33m\u001b[0m\u001b[0m\n\u001b[0m\u001b[0;32m      5\u001b[0m     \u001b[1;32mexcept\u001b[0m \u001b[0mException\u001b[0m \u001b[1;32mas\u001b[0m \u001b[0me\u001b[0m\u001b[1;33m:\u001b[0m\u001b[1;33m\u001b[0m\u001b[1;33m\u001b[0m\u001b[0m\n\u001b[0;32m      6\u001b[0m         \u001b[0mprint\u001b[0m\u001b[1;33m(\u001b[0m\u001b[1;34m'sql_insert_has_parent s0 insertion'\u001b[0m\u001b[1;33m,\u001b[0m\u001b[0mstr\u001b[0m\u001b[1;33m(\u001b[0m\u001b[0me\u001b[0m\u001b[1;33m)\u001b[0m\u001b[1;33m)\u001b[0m\u001b[1;33m\u001b[0m\u001b[1;33m\u001b[0m\u001b[0m\n",
      "\u001b[1;32m<ipython-input-19-5becdd92766b>\u001b[0m in \u001b[0;36mtransaction_bldr\u001b[1;34m(sql)\u001b[0m\n\u001b[0;32m      9\u001b[0m             \u001b[1;32mexcept\u001b[0m\u001b[1;33m:\u001b[0m\u001b[1;33m\u001b[0m\u001b[1;33m\u001b[0m\u001b[0m\n\u001b[0;32m     10\u001b[0m                 \u001b[1;32mpass\u001b[0m\u001b[1;33m\u001b[0m\u001b[1;33m\u001b[0m\u001b[0m\n\u001b[1;32m---> 11\u001b[1;33m         \u001b[0mconnection\u001b[0m\u001b[1;33m.\u001b[0m\u001b[0mcommit\u001b[0m\u001b[1;33m(\u001b[0m\u001b[1;33m)\u001b[0m\u001b[1;33m\u001b[0m\u001b[1;33m\u001b[0m\u001b[0m\n\u001b[0m\u001b[0;32m     12\u001b[0m         \u001b[0msql_transaction\u001b[0m \u001b[1;33m=\u001b[0m \u001b[1;33m[\u001b[0m\u001b[1;33m]\u001b[0m\u001b[1;33m\u001b[0m\u001b[1;33m\u001b[0m\u001b[0m\n",
      "\u001b[1;31mKeyboardInterrupt\u001b[0m: "
     ]
    }
   ],
   "source": [
    "if __name__ == '__main__':\n",
    "    create_table()\n",
    "    row_counter = 0\n",
    "    paired_rows = 0\n",
    "\n",
    "    #with open('J:/chatdata/reddit_data/{}/RC_{}'.format(timeframe.split('-')[0],timeframe), buffering=1000) as f:\n",
    "    with open('C:/Users/16101201/Desktop/RC_2015-01', buffering=1000) as f:\n",
    "        for row in f:\n",
    "            #print(row)\n",
    "            #time.sleep(555)\n",
    "            row_counter += 1\n",
    "\n",
    "            if row_counter > start_row:\n",
    "                try:\n",
    "                    row = json.loads(row)\n",
    "                    parent_id = row['parent_id'].split('_')[1]\n",
    "                    body = format_data(row['body'])\n",
    "                    created_utc = row['created_utc']\n",
    "                    score = row['score']\n",
    "                    \n",
    "                    comment_id = row['id']\n",
    "                    \n",
    "                    subreddit = row['subreddit']\n",
    "                    parent_data = find_parent(parent_id)\n",
    "                    \n",
    "                    existing_comment_score = find_existing_score(parent_id)\n",
    "                    if existing_comment_score:\n",
    "                        if score > existing_comment_score:\n",
    "                            if acceptable(body):\n",
    "                                sql_insert_replace_comment(comment_id,parent_id,parent_data,body,subreddit,created_utc,score)\n",
    "                                \n",
    "                    else:\n",
    "                        if acceptable(body):\n",
    "                            if parent_data:\n",
    "                                if score >= 2:\n",
    "                                    sql_insert_has_parent(comment_id,parent_id,parent_data,body,subreddit,created_utc,score)\n",
    "                                    paired_rows += 1\n",
    "                            else:\n",
    "                                sql_insert_no_parent(comment_id,parent_id,body,subreddit,created_utc,score)\n",
    "                except Exception as e:\n",
    "                    print(str(e))\n",
    "                            \n",
    "            if row_counter % 100000 == 0:\n",
    "                print('Total Rows Read: {}, Paired Rows: {}, Time: {}'.format(row_counter, paired_rows, str(datetime.now())))\n",
    "\n",
    "            if row_counter > start_row:\n",
    "                if row_counter % cleanup == 0:\n",
    "                    print(\"Cleanin up!\")\n",
    "                    sql = \"DELETE FROM parent_reply WHERE parent IS NULL\"\n",
    "                    c.execute(sql)\n",
    "                    connection.commit()\n",
    "                    c.execute(\"VACUUM\")\n",
    "                    connection.commit()"
   ]
  },
  {
   "cell_type": "code",
   "execution_count": null,
   "metadata": {},
   "outputs": [],
   "source": []
  },
  {
   "cell_type": "code",
   "execution_count": null,
   "metadata": {},
   "outputs": [],
   "source": []
  }
 ],
 "metadata": {
  "kernelspec": {
   "display_name": "Python 3",
   "language": "python",
   "name": "python3"
  },
  "language_info": {
   "codemirror_mode": {
    "name": "ipython",
    "version": 3
   },
   "file_extension": ".py",
   "mimetype": "text/x-python",
   "name": "python",
   "nbconvert_exporter": "python",
   "pygments_lexer": "ipython3",
   "version": "3.6.7"
  }
 },
 "nbformat": 4,
 "nbformat_minor": 2
}
